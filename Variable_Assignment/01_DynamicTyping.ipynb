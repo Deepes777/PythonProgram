{
 "cells": [
  {
   "cell_type": "code",
   "execution_count": 1,
   "id": "39e00953",
   "metadata": {},
   "outputs": [],
   "source": [
    "student = \"Bob\""
   ]
  },
  {
   "cell_type": "code",
   "execution_count": 2,
   "id": "c4e7c614",
   "metadata": {},
   "outputs": [
    {
     "data": {
      "text/plain": [
       "'Bob'"
      ]
     },
     "execution_count": 2,
     "metadata": {},
     "output_type": "execute_result"
    }
   ],
   "source": [
    "student"
   ]
  },
  {
   "cell_type": "code",
   "execution_count": 4,
   "id": "6376c8a9",
   "metadata": {},
   "outputs": [],
   "source": [
    "student = [ \"Hary\", \"Ali\"]"
   ]
  },
  {
   "cell_type": "code",
   "execution_count": 5,
   "id": "61c3e54f",
   "metadata": {
    "scrolled": true
   },
   "outputs": [
    {
     "data": {
      "text/plain": [
       "['Hary', 'Ali']"
      ]
     },
     "execution_count": 5,
     "metadata": {},
     "output_type": "execute_result"
    }
   ],
   "source": [
    "student"
   ]
  },
  {
   "cell_type": "markdown",
   "id": "949cab60",
   "metadata": {},
   "source": [
    "# Pros of Dynamic Typing\n",
    "1)very easy to work with\n",
    "\n",
    "2)faster development time\n"
   ]
  },
  {
   "cell_type": "markdown",
   "id": "8e0fa8dc",
   "metadata": {},
   "source": [
    "# Cons of Dynamic Typing\n",
    "1)may result in unexpected bugs!\n",
    "\n",
    "2)you need to be aware of type()"
   ]
  }
 ],
 "metadata": {
  "kernelspec": {
   "display_name": "Python 3 (ipykernel)",
   "language": "python",
   "name": "python3"
  },
  "language_info": {
   "codemirror_mode": {
    "name": "ipython",
    "version": 3
   },
   "file_extension": ".py",
   "mimetype": "text/x-python",
   "name": "python",
   "nbconvert_exporter": "python",
   "pygments_lexer": "ipython3",
   "version": "3.10.2"
  }
 },
 "nbformat": 4,
 "nbformat_minor": 5
}
