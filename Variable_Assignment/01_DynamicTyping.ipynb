{
 "cells": [
  {
   "cell_type": "code",
   "execution_count": 1,
   "id": "d0e39829",
   "metadata": {},
   "outputs": [],
   "source": [
    "student = \"Bob\""
   ]
  },
  {
   "cell_type": "code",
   "execution_count": 2,
   "id": "783e4451",
   "metadata": {},
   "outputs": [
    {
     "data": {
      "text/plain": [
       "'Bob'"
      ]
     },
     "execution_count": 2,
     "metadata": {},
     "output_type": "execute_result"
    }
   ],
   "source": [
    "student"
   ]
  },
  {
   "cell_type": "code",
   "execution_count": 4,
   "id": "5865ca9b",
   "metadata": {},
   "outputs": [],
   "source": [
    "student = [ \"Hary\", \"Ali\"]"
   ]
  },
  {
   "cell_type": "code",
   "execution_count": 5,
   "id": "9cfa95f4",
   "metadata": {
    "scrolled": true
   },
   "outputs": [
    {
     "data": {
      "text/plain": [
       "['Hary', 'Ali']"
      ]
     },
     "execution_count": 5,
     "metadata": {},
     "output_type": "execute_result"
    }
   ],
   "source": [
    "student"
   ]
  },
  {
   "cell_type": "markdown",
   "id": "b4172234",
   "metadata": {},
   "source": [
    "# Pros of Dynamic Typing\n",
    "1.very easy to work with\n",
    "2.faster development time\n"
   ]
  },
  {
   "cell_type": "markdown",
   "id": "1fd6f0ea",
   "metadata": {},
   "source": [
    "# Cons of Dynamic Typing\n",
    "1.may result in unexpected bugs!\n",
    "2.you need to be aware of type()"
   ]
  }
 ],
 "metadata": {
  "kernelspec": {
   "display_name": "Python 3 (ipykernel)",
   "language": "python",
   "name": "python3"
  },
  "language_info": {
   "codemirror_mode": {
    "name": "ipython",
    "version": 3
   },
   "file_extension": ".py",
   "mimetype": "text/x-python",
   "name": "python",
   "nbconvert_exporter": "python",
   "pygments_lexer": "ipython3",
   "version": "3.10.2"
  }
 },
 "nbformat": 4,
 "nbformat_minor": 5
}
