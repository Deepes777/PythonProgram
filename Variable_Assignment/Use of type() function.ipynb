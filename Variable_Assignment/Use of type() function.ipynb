{
 "cells": [
  {
   "cell_type": "markdown",
   "id": "8151f77c",
   "metadata": {},
   "source": [
    "You can check the type of the object that the variable is assigned with using Python's built in function called type().\n",
    "\n",
    "**Common Data Types in use are :**\n",
    "\n",
    "**1.int  \n",
    "2.float  \n",
    "3.bool \n",
    "4.set  \n",
    "5.dict (~ dictionary)  \n",
    "6.list  \n",
    "7.str (~ string )  \n",
    "8.tuple**"
   ]
  },
  {
   "cell_type": "code",
   "execution_count": 11,
   "id": "36c5530b",
   "metadata": {},
   "outputs": [],
   "source": [
    "a = 7"
   ]
  },
  {
   "cell_type": "code",
   "execution_count": 12,
   "id": "2501df25",
   "metadata": {},
   "outputs": [
    {
     "data": {
      "text/plain": [
       "int"
      ]
     },
     "execution_count": 12,
     "metadata": {},
     "output_type": "execute_result"
    }
   ],
   "source": [
    "type(a)"
   ]
  },
  {
   "cell_type": "code",
   "execution_count": 13,
   "id": "1ff56b21",
   "metadata": {},
   "outputs": [],
   "source": [
    "a = \" Hello! \""
   ]
  },
  {
   "cell_type": "code",
   "execution_count": 14,
   "id": "95dc651f",
   "metadata": {},
   "outputs": [
    {
     "data": {
      "text/plain": [
       "str"
      ]
     },
     "execution_count": 14,
     "metadata": {},
     "output_type": "execute_result"
    }
   ],
   "source": [
    "type(a)"
   ]
  }
 ],
 "metadata": {
  "kernelspec": {
   "display_name": "Python 3 (ipykernel)",
   "language": "python",
   "name": "python3"
  },
  "language_info": {
   "codemirror_mode": {
    "name": "ipython",
    "version": 3
   },
   "file_extension": ".py",
   "mimetype": "text/x-python",
   "name": "python",
   "nbconvert_exporter": "python",
   "pygments_lexer": "ipython3",
   "version": "3.10.2"
  }
 },
 "nbformat": 4,
 "nbformat_minor": 5
}
