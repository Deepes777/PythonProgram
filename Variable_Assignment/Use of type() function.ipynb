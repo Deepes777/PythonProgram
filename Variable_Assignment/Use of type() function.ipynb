{
 "cells": [
  {
   "cell_type": "raw",
   "id": "bfa8d649",
   "metadata": {},
   "source": [
    "You can check the type of the object that the variable is assigned with using Python's built in function called type().\n",
    "\n",
    "**Common Data Types in use are **\n",
    "\n",
    "-int  \n",
    "-float \n",
    "-bool\n",
    "-set\n",
    "-dict (~ dictionary)\n",
    "-list\n",
    "-str (~ string)\n",
    "-tuple"
   ]
  },
  {
   "cell_type": "code",
   "execution_count": 1,
   "id": "0c99f002",
   "metadata": {},
   "outputs": [],
   "source": [
    "a = 7"
   ]
  },
  {
   "cell_type": "code",
   "execution_count": 3,
   "id": "7b0e5681",
   "metadata": {},
   "outputs": [
    {
     "data": {
      "text/plain": [
       "int"
      ]
     },
     "execution_count": 3,
     "metadata": {},
     "output_type": "execute_result"
    }
   ],
   "source": [
    "type(a)"
   ]
  },
  {
   "cell_type": "code",
   "execution_count": 4,
   "id": "576bd412",
   "metadata": {},
   "outputs": [],
   "source": [
    "a = \"Hello World\""
   ]
  },
  {
   "cell_type": "code",
   "execution_count": 5,
   "id": "1e73d92e",
   "metadata": {},
   "outputs": [
    {
     "data": {
      "text/plain": [
       "str"
      ]
     },
     "execution_count": 5,
     "metadata": {},
     "output_type": "execute_result"
    }
   ],
   "source": [
    "type(a)"
   ]
  }
 ],
 "metadata": {
  "kernelspec": {
   "display_name": "Python 3 (ipykernel)",
   "language": "python",
   "name": "python3"
  },
  "language_info": {
   "codemirror_mode": {
    "name": "ipython",
    "version": 3
   },
   "file_extension": ".py",
   "mimetype": "text/x-python",
   "name": "python",
   "nbconvert_exporter": "python",
   "pygments_lexer": "ipython3",
   "version": "3.10.2"
  }
 },
 "nbformat": 4,
 "nbformat_minor": 5
}
